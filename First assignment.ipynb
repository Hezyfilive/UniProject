{
 "cells": [
  {
   "metadata": {},
   "cell_type": "markdown",
   "source": [
    "# Ісландія\n",
    "\n",
    "## Основна інформація:\n",
    "\n",
    "- **Площа**: _103 000 км²_\n",
    "- **Населення**: _366 000 осіб_\n",
    "- **Державний устрій**: __парламентська республіка__\n",
    "- **Видатні персоналії**: _**Халльдоур Лакснесс**_ (лауреат Нобелівської премії з літератури)\n",
    "- **Природні пам'ятки**: вулкан Гекла, гейзери, льодовики\n",
    "\n",
    "### Таблиця даних:\n",
    "\n",
    "| Показник          | Значення          |\n",
    "| ----------------- | ----------------- |\n",
    "| Площа             | 103 000 км²       |\n",
    "| Населення         | 366 000 осіб      |\n",
    "| Державний устрій  | парламентська республіка |\n",
    "\n",
    "## Культура та мистецтво:\n",
    "\n",
    "<div style=\"border: 2px solid blue; padding: 10px;\">\n",
    "  <p>Ісландія відома своїми <span style=\"color: red;\">середньовічними сагами</span>, в яких описується життя вікінгів. Також країна славиться своєю літературною спадщиною та природними чудесами.</p>\n",
    "</div>\n",
    "\n",
    "## Вкладені списки:\n",
    "\n",
    "1. Видатні персоналії:\n",
    "   - Халльдоур Лакснесс\n",
    "   - Сноррі Стурлусон\n",
    "     - Твори:\n",
    "       1. Едда\n",
    "       2. Сага про Егілла\n",
    "       3. Сага про Стурлунгів\n",
    "\n",
    "## Державний прапор Ісландії:\n",
    "\n",
    "<svg width=\"200\" height=\"130\">\n",
    "    <rect width=\"200\" height=\"130\" fill=\"#003897\" />\n",
    "    <rect x=\"50\" width=\"30\" height=\"130\" fill=\"white\" />\n",
    "    <rect y=\"50\" width=\"200\" height=\"30\" fill=\"white\" />\n",
    "    <rect x=\"55\" width=\"20\" height=\"130\" fill=\"#d72828\" />\n",
    "    <rect y=\"55\" width=\"200\" height=\"20\" fill=\"#d72828\" />\n",
    "</svg>\n",
    "\n",
    "## Корисні посилання та зображення:\n",
    "\n",
    "![Краєвид Ісландії](https://images.ctfassets.net/4ivszygz9914/1V9hLdVvSmYAc5PLi2EQrx/a0602a3b3f8adbdd9b99809428e31c08/island-sommer-header.jpg?fm=webp)\n",
    "\n",
    "[Офіційний сайт Ісландії](https://www.iceland.is/)\n",
    "\n",
    "[Туристичний портал Ісландії](https://www.visiticeland.com/)\n"
   ],
   "id": "2185c8a6e83f7df9"
  },
  {
   "metadata": {},
   "cell_type": "markdown",
   "source": "# Code part of Task 7",
   "id": "6c8bd0a2eadf3b88"
  },
  {
   "metadata": {
    "ExecuteTime": {
     "end_time": "2024-10-10T21:47:49.167136Z",
     "start_time": "2024-10-10T21:47:49.159955Z"
    }
   },
   "cell_type": "code",
   "source": [
    "def task_7(number):\n",
    "    if isinstance(number, int): # If whole number\n",
    "        binary = bin(number)  # convert to binary\n",
    "        sign_bit = \"0\" if number >= 0 else \"1\"\n",
    "        binary = binary[2:] if number >= 0 else binary[3:] # remove sign prefix\n",
    "        return f'{number} у двійковій системі буде {sign_bit}|{binary}'\n",
    "    \n",
    "    elif isinstance(number, float): # if number is a float\n",
    "        whole, fraction = str(number).split(\".\")\n",
    "        whole = int(whole)\n",
    "        fraction = float(f\"0.{fraction}\")\n",
    "        \n",
    "        # Whole part\n",
    "        whole_binary = bin(whole)[2:] if whole >= 0 else bin(whole)[3:]\n",
    "        sign_bit = \"0\" if number >= 0 else \"1\"\n",
    "        \n",
    "        # Fraction part\n",
    "        fraction_binary = []\n",
    "        while fraction and len(fraction_binary) < 10: # Cut after 10 bits\n",
    "            fraction *= 2\n",
    "            bit = int(fraction)\n",
    "            fraction_binary.append(str(bit))\n",
    "            fraction -= bit\n",
    "\n",
    "        fraction_binary = ''.join(fraction_binary)\n",
    "\n",
    "        return f'{number} у двійковій системі буде {sign_bit}|{whole_binary}.{fraction_binary}'\n",
    "    else:\n",
    "        return 'Помилка: непідтримуваний тип числа'\n"
   ],
   "id": "fbc121e30a2defb3",
   "outputs": [
    {
     "data": {
      "text/plain": [
       "'-204.234 у двійковій системі буде 1|11001100.0011101111'"
      ]
     },
     "execution_count": 4,
     "metadata": {},
     "output_type": "execute_result"
    }
   ],
   "execution_count": 4
  },
  {
   "metadata": {
    "ExecuteTime": {
     "end_time": "2024-10-10T21:48:22.940853Z",
     "start_time": "2024-10-10T21:48:22.936208Z"
    }
   },
   "cell_type": "code",
   "source": "task_7(4534)  # '4534 у двійковій системі буде 0|1000110110110'",
   "id": "77af28abbfbd5c21",
   "outputs": [
    {
     "data": {
      "text/plain": [
       "'4534 у двійковій системі буде 0|1000110110110'"
      ]
     },
     "execution_count": 6,
     "metadata": {},
     "output_type": "execute_result"
    }
   ],
   "execution_count": 6
  },
  {
   "metadata": {
    "ExecuteTime": {
     "end_time": "2024-10-10T21:48:23.821540Z",
     "start_time": "2024-10-10T21:48:23.817358Z"
    }
   },
   "cell_type": "code",
   "source": "task_7(-204.234)  # '-204.234 у двійковій системі буде 1|11001100.0011101111'",
   "id": "b1f3259a712c40f1",
   "outputs": [
    {
     "data": {
      "text/plain": [
       "'-204.234 у двійковій системі буде 1|11001100.0011101111'"
      ]
     },
     "execution_count": 7,
     "metadata": {},
     "output_type": "execute_result"
    }
   ],
   "execution_count": 7
  },
  {
   "metadata": {
    "ExecuteTime": {
     "end_time": "2024-10-10T21:48:24.867649Z",
     "start_time": "2024-10-10T21:48:24.861768Z"
    }
   },
   "cell_type": "code",
   "source": "task_7(\"fg\")  # 'Помилка: непідтримуваний тип числа'",
   "id": "d1c2b0287fee2750",
   "outputs": [
    {
     "data": {
      "text/plain": [
       "'Помилка: непідтримуваний тип числа'"
      ]
     },
     "execution_count": 8,
     "metadata": {},
     "output_type": "execute_result"
    }
   ],
   "execution_count": 8
  },
  {
   "metadata": {},
   "cell_type": "markdown",
   "source": "",
   "id": "12ff009cc3a95be8"
  }
 ],
 "metadata": {
  "kernelspec": {
   "display_name": "Python 3",
   "language": "python",
   "name": "python3"
  },
  "language_info": {
   "codemirror_mode": {
    "name": "ipython",
    "version": 2
   },
   "file_extension": ".py",
   "mimetype": "text/x-python",
   "name": "python",
   "nbconvert_exporter": "python",
   "pygments_lexer": "ipython2",
   "version": "2.7.6"
  }
 },
 "nbformat": 4,
 "nbformat_minor": 5
}
